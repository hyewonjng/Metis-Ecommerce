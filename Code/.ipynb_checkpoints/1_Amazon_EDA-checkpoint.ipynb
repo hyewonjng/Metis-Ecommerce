{
 "cells": [
  {
   "cell_type": "markdown",
   "metadata": {},
   "source": [
    "## EDA "
   ]
  },
  {
   "cell_type": "code",
   "execution_count": 43,
   "metadata": {
    "colab": {
     "base_uri": "https://localhost:8080/",
     "height": 406
    },
    "id": "hGFnOGw7y8n1",
    "outputId": "ce2595b6-bfe1-4dcd-e5e3-618413c79e03"
   },
   "outputs": [
    {
     "data": {
      "text/html": [
       "\n",
       "  <div id=\"df-78363f9e-4dc9-405e-adbd-5fa4443927c2\">\n",
       "    <div class=\"colab-df-container\">\n",
       "      <div>\n",
       "<style scoped>\n",
       "    .dataframe tbody tr th:only-of-type {\n",
       "        vertical-align: middle;\n",
       "    }\n",
       "\n",
       "    .dataframe tbody tr th {\n",
       "        vertical-align: top;\n",
       "    }\n",
       "\n",
       "    .dataframe thead th {\n",
       "        text-align: right;\n",
       "    }\n",
       "</style>\n",
       "<table border=\"1\" class=\"dataframe\">\n",
       "  <thead>\n",
       "    <tr style=\"text-align: right;\">\n",
       "      <th></th>\n",
       "      <th>sentiment</th>\n",
       "      <th>title</th>\n",
       "      <th>review</th>\n",
       "    </tr>\n",
       "  </thead>\n",
       "  <tbody>\n",
       "    <tr>\n",
       "      <th>0</th>\n",
       "      <td>2</td>\n",
       "      <td>Great CD</td>\n",
       "      <td>My lovely Pat has one of the GREAT voices of her generation. I have listened to this CD for YEARS and I still LOVE IT. When I'm in a good mood it makes me feel better. A bad mood just evaporates like sugar in the rain. This CD just oozes LIFE. Vocals are jusat STUUNNING and lyrics just kill. One of life's hidden gems. This is a desert isle CD in my book. Why she never made it big is just beyond me. Everytime I play this, no matter black, white, young, old, male, female EVERYBODY says one thing \"Who was that singing ?\"</td>\n",
       "    </tr>\n",
       "    <tr>\n",
       "      <th>1</th>\n",
       "      <td>2</td>\n",
       "      <td>One of the best game music soundtracks - for a game I didn't really play</td>\n",
       "      <td>Despite the fact that I have only played a small portion of the game, the music I heard (plus the connection to Chrono Trigger which was great as well) led me to purchase the soundtrack, and it remains one of my favorite albums. There is an incredible mix of fun, epic, and emotional songs. Those sad and beautiful tracks I especially like, as there's not too many of those kinds of songs in my other video game soundtracks. I must admit that one of the songs (Life-A Distant Promise) has brought tears to my eyes on many occasions.My one complaint about this soundtrack is that they use guitar fretting effects in many of the songs, which I find distracting. But even if those weren't included I would still consider the collection worth it.</td>\n",
       "    </tr>\n",
       "    <tr>\n",
       "      <th>2</th>\n",
       "      <td>1</td>\n",
       "      <td>Batteries died within a year ...</td>\n",
       "      <td>I bought this charger in Jul 2003 and it worked OK for a while. The design is nice and convenient. However, after about a year, the batteries would not hold a charge. Might as well just get alkaline disposables, or look elsewhere for a charger that comes with batteries that have better staying power.</td>\n",
       "    </tr>\n",
       "    <tr>\n",
       "      <th>3</th>\n",
       "      <td>2</td>\n",
       "      <td>works fine, but Maha Energy is better</td>\n",
       "      <td>Check out Maha Energy's website. Their Powerex MH-C204F charger works in 100 minutes for rapid charge, with option for slower charge (better for batteries). And they have 2200 mAh batteries.</td>\n",
       "    </tr>\n",
       "    <tr>\n",
       "      <th>4</th>\n",
       "      <td>2</td>\n",
       "      <td>Great for the non-audiophile</td>\n",
       "      <td>Reviewed quite a bit of the combo players and was hesitant due to unfavorable reviews and size of machines. I am weaning off my VHS collection, but don't want to replace them with DVD's. This unit is well built, easy to setup and resolution and special effects (no progressive scan for HDTV owners) suitable for many people looking for a versatile product.Cons- No universal remote.</td>\n",
       "    </tr>\n",
       "  </tbody>\n",
       "</table>\n",
       "</div>\n",
       "      <button class=\"colab-df-convert\" onclick=\"convertToInteractive('df-78363f9e-4dc9-405e-adbd-5fa4443927c2')\"\n",
       "              title=\"Convert this dataframe to an interactive table.\"\n",
       "              style=\"display:none;\">\n",
       "        \n",
       "  <svg xmlns=\"http://www.w3.org/2000/svg\" height=\"24px\"viewBox=\"0 0 24 24\"\n",
       "       width=\"24px\">\n",
       "    <path d=\"M0 0h24v24H0V0z\" fill=\"none\"/>\n",
       "    <path d=\"M18.56 5.44l.94 2.06.94-2.06 2.06-.94-2.06-.94-.94-2.06-.94 2.06-2.06.94zm-11 1L8.5 8.5l.94-2.06 2.06-.94-2.06-.94L8.5 2.5l-.94 2.06-2.06.94zm10 10l.94 2.06.94-2.06 2.06-.94-2.06-.94-.94-2.06-.94 2.06-2.06.94z\"/><path d=\"M17.41 7.96l-1.37-1.37c-.4-.4-.92-.59-1.43-.59-.52 0-1.04.2-1.43.59L10.3 9.45l-7.72 7.72c-.78.78-.78 2.05 0 2.83L4 21.41c.39.39.9.59 1.41.59.51 0 1.02-.2 1.41-.59l7.78-7.78 2.81-2.81c.8-.78.8-2.07 0-2.86zM5.41 20L4 18.59l7.72-7.72 1.47 1.35L5.41 20z\"/>\n",
       "  </svg>\n",
       "      </button>\n",
       "      \n",
       "  <style>\n",
       "    .colab-df-container {\n",
       "      display:flex;\n",
       "      flex-wrap:wrap;\n",
       "      gap: 12px;\n",
       "    }\n",
       "\n",
       "    .colab-df-convert {\n",
       "      background-color: #E8F0FE;\n",
       "      border: none;\n",
       "      border-radius: 50%;\n",
       "      cursor: pointer;\n",
       "      display: none;\n",
       "      fill: #1967D2;\n",
       "      height: 32px;\n",
       "      padding: 0 0 0 0;\n",
       "      width: 32px;\n",
       "    }\n",
       "\n",
       "    .colab-df-convert:hover {\n",
       "      background-color: #E2EBFA;\n",
       "      box-shadow: 0px 1px 2px rgba(60, 64, 67, 0.3), 0px 1px 3px 1px rgba(60, 64, 67, 0.15);\n",
       "      fill: #174EA6;\n",
       "    }\n",
       "\n",
       "    [theme=dark] .colab-df-convert {\n",
       "      background-color: #3B4455;\n",
       "      fill: #D2E3FC;\n",
       "    }\n",
       "\n",
       "    [theme=dark] .colab-df-convert:hover {\n",
       "      background-color: #434B5C;\n",
       "      box-shadow: 0px 1px 3px 1px rgba(0, 0, 0, 0.15);\n",
       "      filter: drop-shadow(0px 1px 2px rgba(0, 0, 0, 0.3));\n",
       "      fill: #FFFFFF;\n",
       "    }\n",
       "  </style>\n",
       "\n",
       "      <script>\n",
       "        const buttonEl =\n",
       "          document.querySelector('#df-78363f9e-4dc9-405e-adbd-5fa4443927c2 button.colab-df-convert');\n",
       "        buttonEl.style.display =\n",
       "          google.colab.kernel.accessAllowed ? 'block' : 'none';\n",
       "\n",
       "        async function convertToInteractive(key) {\n",
       "          const element = document.querySelector('#df-78363f9e-4dc9-405e-adbd-5fa4443927c2');\n",
       "          const dataTable =\n",
       "            await google.colab.kernel.invokeFunction('convertToInteractive',\n",
       "                                                     [key], {});\n",
       "          if (!dataTable) return;\n",
       "\n",
       "          const docLinkHtml = 'Like what you see? Visit the ' +\n",
       "            '<a target=\"_blank\" href=https://colab.research.google.com/notebooks/data_table.ipynb>data table notebook</a>'\n",
       "            + ' to learn more about interactive tables.';\n",
       "          element.innerHTML = '';\n",
       "          dataTable['output_type'] = 'display_data';\n",
       "          await google.colab.output.renderOutput(dataTable, element);\n",
       "          const docLink = document.createElement('div');\n",
       "          docLink.innerHTML = docLinkHtml;\n",
       "          element.appendChild(docLink);\n",
       "        }\n",
       "      </script>\n",
       "    </div>\n",
       "  </div>\n",
       "  "
      ],
      "text/plain": [
       "   sentiment  \\\n",
       "0  2           \n",
       "1  2           \n",
       "2  1           \n",
       "3  2           \n",
       "4  2           \n",
       "\n",
       "                                                                      title  \\\n",
       "0  Great CD                                                                   \n",
       "1  One of the best game music soundtracks - for a game I didn't really play   \n",
       "2  Batteries died within a year ...                                           \n",
       "3  works fine, but Maha Energy is better                                      \n",
       "4  Great for the non-audiophile                                               \n",
       "\n",
       "                                                                                                                                                                                                                                                                                                                                                                                                                                                                                                                                                                                                                                                                                                                                                                   review  \n",
       "0  My lovely Pat has one of the GREAT voices of her generation. I have listened to this CD for YEARS and I still LOVE IT. When I'm in a good mood it makes me feel better. A bad mood just evaporates like sugar in the rain. This CD just oozes LIFE. Vocals are jusat STUUNNING and lyrics just kill. One of life's hidden gems. This is a desert isle CD in my book. Why she never made it big is just beyond me. Everytime I play this, no matter black, white, young, old, male, female EVERYBODY says one thing \"Who was that singing ?\"                                                                                                                                                                                                                             \n",
       "1  Despite the fact that I have only played a small portion of the game, the music I heard (plus the connection to Chrono Trigger which was great as well) led me to purchase the soundtrack, and it remains one of my favorite albums. There is an incredible mix of fun, epic, and emotional songs. Those sad and beautiful tracks I especially like, as there's not too many of those kinds of songs in my other video game soundtracks. I must admit that one of the songs (Life-A Distant Promise) has brought tears to my eyes on many occasions.My one complaint about this soundtrack is that they use guitar fretting effects in many of the songs, which I find distracting. But even if those weren't included I would still consider the collection worth it.  \n",
       "2  I bought this charger in Jul 2003 and it worked OK for a while. The design is nice and convenient. However, after about a year, the batteries would not hold a charge. Might as well just get alkaline disposables, or look elsewhere for a charger that comes with batteries that have better staying power.                                                                                                                                                                                                                                                                                                                                                                                                                                                           \n",
       "3  Check out Maha Energy's website. Their Powerex MH-C204F charger works in 100 minutes for rapid charge, with option for slower charge (better for batteries). And they have 2200 mAh batteries.                                                                                                                                                                                                                                                                                                                                                                                                                                                                                                                                                                          \n",
       "4  Reviewed quite a bit of the combo players and was hesitant due to unfavorable reviews and size of machines. I am weaning off my VHS collection, but don't want to replace them with DVD's. This unit is well built, easy to setup and resolution and special effects (no progressive scan for HDTV owners) suitable for many people looking for a versatile product.Cons- No universal remote.                                                                                                                                                                                                                                                                                                                                                                          "
      ]
     },
     "execution_count": 43,
     "metadata": {},
     "output_type": "execute_result"
    }
   ],
   "source": [
    "import pandas as pd\n",
    "\n",
    "col_names = ['sentiment','title','review']\n",
    "df = pd.read_csv(\"Amazon Dataset/train.csv\", names = col_names, header = None)\n",
    "\n",
    "df.head()"
   ]
  },
  {
   "cell_type": "code",
   "execution_count": 44,
   "metadata": {
    "colab": {
     "base_uri": "https://localhost:8080/"
    },
    "id": "6iuvBpfizIg7",
    "outputId": "1193303b-1145-4a46-85ac-74db0a6c45d7"
   },
   "outputs": [
    {
     "name": "stdout",
     "output_type": "stream",
     "text": [
      "<class 'pandas.core.frame.DataFrame'>\n",
      "RangeIndex: 400000 entries, 0 to 399999\n",
      "Data columns (total 3 columns):\n",
      " #   Column     Non-Null Count   Dtype \n",
      "---  ------     --------------   ----- \n",
      " 0   sentiment  400000 non-null  int64 \n",
      " 1   title      399990 non-null  object\n",
      " 2   review     400000 non-null  object\n",
      "dtypes: int64(1), object(2)\n",
      "memory usage: 9.2+ MB\n"
     ]
    }
   ],
   "source": [
    "df.info()"
   ]
  },
  {
   "cell_type": "code",
   "execution_count": 45,
   "metadata": {
    "colab": {
     "base_uri": "https://localhost:8080/"
    },
    "id": "vcyE45yJ0Bxv",
    "outputId": "93fc2f4e-317c-48ce-d621-8f1e99093a31"
   },
   "outputs": [
    {
     "name": "stdout",
     "output_type": "stream",
     "text": [
      "[2 1]\n"
     ]
    }
   ],
   "source": [
    "print(df['sentiment'].unique())"
   ]
  },
  {
   "cell_type": "code",
   "execution_count": 46,
   "metadata": {
    "id": "PtxpwSZ_kWkZ"
   },
   "outputs": [],
   "source": [
    "# switching negative and positive review values \n",
    "# 0 for negative reviews and 1 for positive reviews\n",
    "\n",
    "df.sentiment.replace({1:0,2:1},inplace=True)"
   ]
  },
  {
   "cell_type": "code",
   "execution_count": 47,
   "metadata": {
    "colab": {
     "base_uri": "https://localhost:8080/"
    },
    "id": "FFnsZ2Tr0QQA",
    "outputId": "0f104375-9895-4904-8080-0cab4fa574e4"
   },
   "outputs": [
    {
     "name": "stdout",
     "output_type": "stream",
     "text": [
      "1    200000\n",
      "0    200000\n",
      "Name: sentiment, dtype: int64\n"
     ]
    }
   ],
   "source": [
    "print(df['sentiment'].value_counts())"
   ]
  },
  {
   "cell_type": "code",
   "execution_count": 48,
   "metadata": {
    "colab": {
     "base_uri": "https://localhost:8080/"
    },
    "id": "hG6oKutY1pf5",
    "outputId": "61a63aab-d550-4cfe-9491-13805d51ad6b"
   },
   "outputs": [
    {
     "data": {
      "text/plain": [
       "sentiment    0 \n",
       "title        10\n",
       "review       0 \n",
       "dtype: int64"
      ]
     },
     "execution_count": 48,
     "metadata": {},
     "output_type": "execute_result"
    }
   ],
   "source": [
    "df.isna().sum()"
   ]
  },
  {
   "cell_type": "code",
   "execution_count": 49,
   "metadata": {
    "colab": {
     "base_uri": "https://localhost:8080/"
    },
    "id": "afTSNoR44P06",
    "outputId": "9165115e-2410-44f7-f7be-4de586ce6de7"
   },
   "outputs": [
    {
     "name": "stdout",
     "output_type": "stream",
     "text": [
      "sentiment    0\n",
      "title        0\n",
      "review       0\n",
      "dtype: int64\n"
     ]
    }
   ],
   "source": [
    "df.dropna(inplace = True)\n",
    "print(df.isna().sum())"
   ]
  },
  {
   "cell_type": "code",
   "execution_count": 50,
   "metadata": {
    "colab": {
     "base_uri": "https://localhost:8080/"
    },
    "id": "tg0KLAdD4nZd",
    "outputId": "f293ad0b-7604-40b9-a6a7-d8ba6dc6eadb"
   },
   "outputs": [
    {
     "data": {
      "text/plain": [
       "0"
      ]
     },
     "execution_count": 50,
     "metadata": {},
     "output_type": "execute_result"
    }
   ],
   "source": [
    "df.duplicated().sum()"
   ]
  },
  {
   "cell_type": "code",
   "execution_count": 51,
   "metadata": {
    "colab": {
     "base_uri": "https://localhost:8080/"
    },
    "id": "o1YxT-9sushj",
    "outputId": "cf963ad5-8695-40dc-99f2-31d342f13904"
   },
   "outputs": [
    {
     "data": {
      "text/plain": [
       "(4000, 3)"
      ]
     },
     "execution_count": 51,
     "metadata": {},
     "output_type": "execute_result"
    }
   ],
   "source": [
    "df = df.sample(frac=.01)\n",
    "df.shape"
   ]
  },
  {
   "cell_type": "code",
   "execution_count": 52,
   "metadata": {
    "colab": {
     "base_uri": "https://localhost:8080/",
     "height": 367
    },
    "id": "ztWCJCsa41-o",
    "outputId": "9d21f0fe-533c-41be-e835-81bdc6b07fd2"
   },
   "outputs": [
    {
     "name": "stderr",
     "output_type": "stream",
     "text": [
      "/usr/local/lib/python3.7/dist-packages/seaborn/_decorators.py:43: FutureWarning: Pass the following variable as a keyword arg: x. From version 0.12, the only valid positional argument will be `data`, and passing other arguments without an explicit keyword will result in an error or misinterpretation.\n",
      "  FutureWarning\n"
     ]
    },
    {
     "data": {
      "text/plain": [
       "Text(0.5, 1.0, 'checking class balance in sentiment')"
      ]
     },
     "execution_count": 52,
     "metadata": {},
     "output_type": "execute_result"
    },
    {
     "data": {
      "image/png": "[encoded data removed]",
      "text/plain": [
       "<Figure size 432x288 with 1 Axes>"
      ]
     },
     "metadata": {
      "needs_background": "light"
     },
     "output_type": "display_data"
    }
   ],
   "source": [
    "import seaborn as sns\n",
    "import matplotlib.pyplot as plt\n",
    "\n",
    "sns.countplot(df.sentiment)\n",
    "plt.title(\"checking class balance in sentiment\")"
   ]
  },
  {
   "cell_type": "markdown",
   "metadata": {
    "id": "tCC52bK75z-p"
   },
   "source": [
    "*   Missing data were dropped.\n",
    "*   There's *no class imbalance issue* so no need for oversamping or undersampling.\n",
    "\n",
    "\n",
    "\n",
    "\n",
    "\n",
    "\n"
   ]
  },
  {
   "cell_type": "markdown",
   "metadata": {
    "id": "S36nt3m76EDm"
   },
   "source": [
    "### Text Preprocessing"
   ]
  },
  {
   "cell_type": "code",
   "execution_count": 53,
   "metadata": {
    "colab": {
     "base_uri": "https://localhost:8080/"
    },
    "id": "4IZAlBqQ6C6S",
    "outputId": "fdcb246d-6e60-4a76-c9d3-97a83390e049"
   },
   "outputs": [
    {
     "name": "stderr",
     "output_type": "stream",
     "text": [
      "/usr/local/lib/python3.7/dist-packages/ipykernel_launcher.py:1: FutureWarning: Passing a negative integer is deprecated in version 1.0 and will not be supported in future version. Instead, use None to not limit the column width.\n",
      "  \"\"\"Entry point for launching an IPython kernel.\n"
     ]
    },
    {
     "data": {
      "text/plain": [
       "124839    like a million other people have said,Digital signal equals no loss of quality so cheap cables perform at the SAME level as these waste of money cables. Length is an issue? get the cheap 12 meter cable for 20 bucks! go search you thrifty shopper!                                                                                                                                                                                                                                                                                                                                                                                                                                                                                                                                                                                                                                                                                                                                 \n",
       "223301    I bought SD-3960 and it died within 3 months' warranty period. Called Toshiba and they replaced it with a SD-3980. It has a very shallow tray comparing to other DVD players, which doesn't bother me too much. However, it keep frozen during the DVD play back.&#12288;&#65321; have to unplug the power to reset the software according to Toshiba's technical support.I bought sony and APEX DVD players from amazon before and they are always trouble free.                                                                                                                                                                                                                                                                                                                                                                                                                                                                                                                      \n",
       "373720    A friend gave me my original stainless Whisky. I just loved his look and then I started using it and it is great, just right for those small jobs of beating an egg or mixing flour/milk for gravy. The whisk did fall out of the base after a while (hence the 4 stars instead of 5) but I loved him so much I glued it back together and he has been working ever since. Some days I look at him on my prep shelf and think \"I know how you feel buddy\". Anyway, it works well and brightens my day. I am ordering the silicone orange one now too.                                                                                                                                                                                                                                                                                                                                                                                                                                  \n",
       "391974    The over-designed nature of this book makes it a bit difficult to read. Content is fairly good, which is why this is a bit of a disappointment.                                                                                                                                                                                                                                                                                                                                                                                                                                                                                                                                                                                                                                                                                                                                                                                                                                        \n",
       "204047    I have to admit I am thoroughly dissappointed by this book and cannot understand the positive reviews it received from several of the other readers, except that they may be academics. If you are somebody who is only interested in the theory and philosophical background of corporate partnerships, this might be the book you are looking for, but if you are, like myself, a practical doer, who is looking for hands-on insight and knowledge on this topic, you will be deeply dissappointed. Also several of the examples of \"showcase\" alliances, such as Iridium, are not only outdated, but in fact, bankrupt. Very annoying to read about these \"great\" alliances, that several months after publishing went belly up. To sum it up, for the practical business professionals among you, I suggest you keep on researching on other books in this genre. Unfortunately, since I didn't read yet any other books on this topic, I cannot offer an alternative book advice.\n",
       "23121     its important to note that this unit does not have electric start. this one you have to light with a match/lighter. that being said, i would recommend this as an option for anyone looking for heat without the worry of fumes. i used this to heat an apartment without other utilities. it was a must have! obviously follow manufactures directions and observe safety precautions. i would generally get 5-7 hours of heat out of one cannister.                                                                                                                                                                                                                                                                                                                                                                                                                                                                                                                                  \n",
       "230415    I really enjoyed this film. The opening sequence left alot to be desired in regard to cinematography. Small suggestion, but I think you should have chosen a different location for the opening. Too much white! It was hard to watch even on this small screen.But, that said, I think these guys did a really good job creating a fluffy little comedy with heart. I was pleasantly surprised by the special FX of the coin going into the meter. That almost makes up for the shaky beginning!This team had alot on their hands, considering the huge cast, multiple locations and set-ups. Could have done with less of the song (it's okay, but if felt like a cop-out regarding audio and storyline).Though it's not the best in the competition, these filmmakers might have a long career.                                                                                                                                                                                     \n",
       "173563    I found this book in the library, and it was so good that I coundn't read it at night. Some books are like that. And if you like the X-files, you're gonna love this book. It's right up that alley!                                                                                                                                                                                                                                                                                                                                                                                                                                                                                                                                                                                                                                                                                                                                                                                   \n",
       "9096      due to a coordinated effort by a right wing web site that hates Oliver Stone and anybody else that doesn't share its ideological slant. They encouraged their members to write poor reviews to convince you that this movies is not worth your time. They are angry that Hollywood is able to make a movie about many aspects of Bush's life that were true, but which the corporate owned media didn't allow discussion of. So if thats who you are too, take their advice because you will hate this movie. The other 70% of the country should see the movie and judge for themselves.                                                                                                                                                                                                                                                                                                                                                                                              \n",
       "167405    I came upon this shirt ten years ago and have been buying them for outdoor winter work ever since. Well sewn -- very durable. Most other shirts of this type have flap pockets which I don't like because the flap has no useful purpose and conflicts with things I need to carry in the pocket. Very satisfied over-all.                                                                                                                                                                                                                                                                                                                                                                                                                                                                                                                                                                                                                                                             \n",
       "Name: review, dtype: object"
      ]
     },
     "execution_count": 53,
     "metadata": {},
     "output_type": "execute_result"
    }
   ],
   "source": [
    "pd.set_option('display.max_colwidth', -1)\n",
    "df.review[:10]"
   ]
  },
  {
   "cell_type": "code",
   "execution_count": 57,
   "metadata": {
    "id": "B7SFiLX06O7O"
   },
   "outputs": [],
   "source": [
    "import nltk\n",
    "\n",
    "# nltk.download('stopwords')\n",
    "# nltk.download('wordnet')\n",
    "\n",
    "from nltk.corpus import stopwords\n",
    "from nltk.stem.wordnet import WordNetLemmatizer\n",
    "\n",
    "import string\n",
    "import re\n",
    "\n",
    "lemmatizer = WordNetLemmatizer()\n",
    "\n",
    "def preprocess_text(text):\n",
    "    text = re.sub('[^a-zA-Z0-9]',' ',text)\n",
    "    text = [lemmatizer.lemmatize(word) for word in text.split() if not word in set(stopwords.words('english'))]\n",
    "    text = ' '.join(text)\n",
    "    return text\n",
    "\n",
    "df[\"cleaned_review\"] = df[\"review\"].apply(preprocess_text)\n",
    "df[\"cleaned_review\"] = df[\"cleaned_review\"].str.lower()"
   ]
  },
  {
   "cell_type": "code",
   "execution_count": 58,
   "metadata": {
    "colab": {
     "base_uri": "https://localhost:8080/"
    },
    "id": "YPa4Y8H4fua1",
    "outputId": "1d2d1915-0d99-49c2-ed78-96b3cc729d87"
   },
   "outputs": [
    {
     "data": {
      "text/plain": [
       "124839    like million people said digital signal equal loss quality cheap cable perform same level waste money cable length issue get cheap 12 meter cable 20 buck go search thrifty shopper                                                                                                                                                                                                                                                                                                                                                                                                                                                           \n",
       "223301    i bought sd 3960 died within 3 month warranty period called toshiba replaced sd 3980 it shallow tray comparing dvd player bother much however keep frozen dvd play back 12288 65321 unplug power reset software according toshiba technical support i bought sony apex dvd player amazon always trouble free                                                                                                                                                                                                                                                                                                                                  \n",
       "373720    a friend gave original stainless whisky i loved look i started using great right small job beating egg mixing flour milk gravy the whisk fall base hence 4 star instead 5 i loved much i glued back together working ever since some day i look prep shelf think i know feel buddy anyway work well brightens day i ordering silicone orange one                                                                                                                                                                                                                                                                                              \n",
       "391974    the designed nature book make bit difficult read content fairly good bit disappointment                                                                                                                                                                                                                                                                                                                                                                                                                                                                                                                                                       \n",
       "204047    i admit i thoroughly dissappointed book cannot understand positive review received several reader except may academic if somebody interested theory philosophical background corporate partnership might book looking like practical doer looking hand insight knowledge topic deeply dissappointed also several example showcase alliance iridium outdated fact bankrupt very annoying read great alliance several month publishing went belly to sum practical business professional among i suggest keep researching book genre unfortunately since i read yet book topic i cannot offer alternative book advice                           \n",
       "                                                                                                                                                                                                                                                                                                                 ...                                                                                                                                                                                                                                                                                                                                    \n",
       "16        this awesome game almost everyone know tic tac toe easy learn quick play you play the twist piece slightly different size big enough gobble opponent the first person make tic tac toe win easy look stuck mindset making three row forget gobbling possibility my 4 5 year old beat even i trying win excellent beginning critical thinking game grandparents loved playing kid                                                                                                                                                                                                                                                              \n",
       "230924    the flower somehow one multiple face inscrutable nature the admirable shape enlist erotic orchid sunflower the poetry painting music sculpture empowered magnify heighten from van gogh rilke sublime brief presence inspiration motive countless artist the author offer u invaluable appreciation flower poetic the simile described process pollen ritual true poem the flower drawing see reflect unthinkable colour if flower exist human point view world would dead acquire singular essay admirably well written best expressed                                                                                                       \n",
       "366994    i purchased video help several family member gain pain relief i followed 10 set bowen move carefully the instruction clear simple i able follow along easily even though i previous bodywork training after session i encouraged family member follow suggested action walking drinking water waiting least week bodywork the result wonderful my sister law skeptic shocked hip pain greatly reduced mom gained lot relief fibromyalgia pain i excited result i seriously thinking training become bowen practitioner i learn advanced move i think people live near practitioner video excellent resource helping family friend get rid pain\n",
       "305597    this product not help learn asl it even teach one single sign the signing sync narrator even i know basic asl confused time the graphic amateurish seem drawn microsoft paint there little opportunity interact program unless child already know asl like signed short boring story program worthless what disappointment                                                                                                                                                                                                                                                                                                                    \n",
       "101022    this cd extremely dull boring worst effort talented miss flack ever put forth stick 70 work waste time                                                                                                                                                                                                                                                                                                                                                                                                                                                                                                                                        \n",
       "Name: cleaned_review, Length: 4000, dtype: object"
      ]
     },
     "execution_count": 58,
     "metadata": {},
     "output_type": "execute_result"
    }
   ],
   "source": [
    "df[\"cleaned_review\"]"
   ]
  },
  {
   "cell_type": "code",
   "execution_count": 59,
   "metadata": {
    "colab": {
     "base_uri": "https://localhost:8080/",
     "height": 320
    },
    "id": "SBIVxlk8gv0c",
    "outputId": "37169623-1707-436b-9ed3-c5328dff72ee"
   },
   "outputs": [
    {
     "data": {
      "text/html": [
       "\n",
       "  <div id=\"df-56b31c43-5150-4b59-8da7-439f44cb6624\">\n",
       "    <div class=\"colab-df-container\">\n",
       "      <div>\n",
       "<style scoped>\n",
       "    .dataframe tbody tr th:only-of-type {\n",
       "        vertical-align: middle;\n",
       "    }\n",
       "\n",
       "    .dataframe tbody tr th {\n",
       "        vertical-align: top;\n",
       "    }\n",
       "\n",
       "    .dataframe thead th {\n",
       "        text-align: right;\n",
       "    }\n",
       "</style>\n",
       "<table border=\"1\" class=\"dataframe\">\n",
       "  <thead>\n",
       "    <tr style=\"text-align: right;\">\n",
       "      <th></th>\n",
       "      <th>sentiment</th>\n",
       "      <th>cleaned_review</th>\n",
       "    </tr>\n",
       "  </thead>\n",
       "  <tbody>\n",
       "    <tr>\n",
       "      <th>124839</th>\n",
       "      <td>0</td>\n",
       "      <td>like million people said digital signal equal loss quality cheap cable perform same level waste money cable length issue get cheap 12 meter cable 20 buck go search thrifty shopper</td>\n",
       "    </tr>\n",
       "    <tr>\n",
       "      <th>223301</th>\n",
       "      <td>0</td>\n",
       "      <td>i bought sd 3960 died within 3 month warranty period called toshiba replaced sd 3980 it shallow tray comparing dvd player bother much however keep frozen dvd play back 12288 65321 unplug power reset software according toshiba technical support i bought sony apex dvd player amazon always trouble free</td>\n",
       "    </tr>\n",
       "    <tr>\n",
       "      <th>373720</th>\n",
       "      <td>1</td>\n",
       "      <td>a friend gave original stainless whisky i loved look i started using great right small job beating egg mixing flour milk gravy the whisk fall base hence 4 star instead 5 i loved much i glued back together working ever since some day i look prep shelf think i know feel buddy anyway work well brightens day i ordering silicone orange one</td>\n",
       "    </tr>\n",
       "    <tr>\n",
       "      <th>391974</th>\n",
       "      <td>0</td>\n",
       "      <td>the designed nature book make bit difficult read content fairly good bit disappointment</td>\n",
       "    </tr>\n",
       "    <tr>\n",
       "      <th>204047</th>\n",
       "      <td>0</td>\n",
       "      <td>i admit i thoroughly dissappointed book cannot understand positive review received several reader except may academic if somebody interested theory philosophical background corporate partnership might book looking like practical doer looking hand insight knowledge topic deeply dissappointed also several example showcase alliance iridium outdated fact bankrupt very annoying read great alliance several month publishing went belly to sum practical business professional among i suggest keep researching book genre unfortunately since i read yet book topic i cannot offer alternative book advice</td>\n",
       "    </tr>\n",
       "  </tbody>\n",
       "</table>\n",
       "</div>\n",
       "      <button class=\"colab-df-convert\" onclick=\"convertToInteractive('df-56b31c43-5150-4b59-8da7-439f44cb6624')\"\n",
       "              title=\"Convert this dataframe to an interactive table.\"\n",
       "              style=\"display:none;\">\n",
       "        \n",
       "  <svg xmlns=\"http://www.w3.org/2000/svg\" height=\"24px\"viewBox=\"0 0 24 24\"\n",
       "       width=\"24px\">\n",
       "    <path d=\"M0 0h24v24H0V0z\" fill=\"none\"/>\n",
       "    <path d=\"M18.56 5.44l.94 2.06.94-2.06 2.06-.94-2.06-.94-.94-2.06-.94 2.06-2.06.94zm-11 1L8.5 8.5l.94-2.06 2.06-.94-2.06-.94L8.5 2.5l-.94 2.06-2.06.94zm10 10l.94 2.06.94-2.06 2.06-.94-2.06-.94-.94-2.06-.94 2.06-2.06.94z\"/><path d=\"M17.41 7.96l-1.37-1.37c-.4-.4-.92-.59-1.43-.59-.52 0-1.04.2-1.43.59L10.3 9.45l-7.72 7.72c-.78.78-.78 2.05 0 2.83L4 21.41c.39.39.9.59 1.41.59.51 0 1.02-.2 1.41-.59l7.78-7.78 2.81-2.81c.8-.78.8-2.07 0-2.86zM5.41 20L4 18.59l7.72-7.72 1.47 1.35L5.41 20z\"/>\n",
       "  </svg>\n",
       "      </button>\n",
       "      \n",
       "  <style>\n",
       "    .colab-df-container {\n",
       "      display:flex;\n",
       "      flex-wrap:wrap;\n",
       "      gap: 12px;\n",
       "    }\n",
       "\n",
       "    .colab-df-convert {\n",
       "      background-color: #E8F0FE;\n",
       "      border: none;\n",
       "      border-radius: 50%;\n",
       "      cursor: pointer;\n",
       "      display: none;\n",
       "      fill: #1967D2;\n",
       "      height: 32px;\n",
       "      padding: 0 0 0 0;\n",
       "      width: 32px;\n",
       "    }\n",
       "\n",
       "    .colab-df-convert:hover {\n",
       "      background-color: #E2EBFA;\n",
       "      box-shadow: 0px 1px 2px rgba(60, 64, 67, 0.3), 0px 1px 3px 1px rgba(60, 64, 67, 0.15);\n",
       "      fill: #174EA6;\n",
       "    }\n",
       "\n",
       "    [theme=dark] .colab-df-convert {\n",
       "      background-color: #3B4455;\n",
       "      fill: #D2E3FC;\n",
       "    }\n",
       "\n",
       "    [theme=dark] .colab-df-convert:hover {\n",
       "      background-color: #434B5C;\n",
       "      box-shadow: 0px 1px 3px 1px rgba(0, 0, 0, 0.15);\n",
       "      filter: drop-shadow(0px 1px 2px rgba(0, 0, 0, 0.3));\n",
       "      fill: #FFFFFF;\n",
       "    }\n",
       "  </style>\n",
       "\n",
       "      <script>\n",
       "        const buttonEl =\n",
       "          document.querySelector('#df-56b31c43-5150-4b59-8da7-439f44cb6624 button.colab-df-convert');\n",
       "        buttonEl.style.display =\n",
       "          google.colab.kernel.accessAllowed ? 'block' : 'none';\n",
       "\n",
       "        async function convertToInteractive(key) {\n",
       "          const element = document.querySelector('#df-56b31c43-5150-4b59-8da7-439f44cb6624');\n",
       "          const dataTable =\n",
       "            await google.colab.kernel.invokeFunction('convertToInteractive',\n",
       "                                                     [key], {});\n",
       "          if (!dataTable) return;\n",
       "\n",
       "          const docLinkHtml = 'Like what you see? Visit the ' +\n",
       "            '<a target=\"_blank\" href=https://colab.research.google.com/notebooks/data_table.ipynb>data table notebook</a>'\n",
       "            + ' to learn more about interactive tables.';\n",
       "          element.innerHTML = '';\n",
       "          dataTable['output_type'] = 'display_data';\n",
       "          await google.colab.output.renderOutput(dataTable, element);\n",
       "          const docLink = document.createElement('div');\n",
       "          docLink.innerHTML = docLinkHtml;\n",
       "          element.appendChild(docLink);\n",
       "        }\n",
       "      </script>\n",
       "    </div>\n",
       "  </div>\n",
       "  "
      ],
      "text/plain": [
       "        sentiment  \\\n",
       "124839  0           \n",
       "223301  0           \n",
       "373720  1           \n",
       "391974  0           \n",
       "204047  0           \n",
       "\n",
       "                                                                                                                                                                                                                                                                                                                                                                                                                                                                                                                                                                                                             cleaned_review  \n",
       "124839  like million people said digital signal equal loss quality cheap cable perform same level waste money cable length issue get cheap 12 meter cable 20 buck go search thrifty shopper                                                                                                                                                                                                                                                                                                                                                                                                                                  \n",
       "223301  i bought sd 3960 died within 3 month warranty period called toshiba replaced sd 3980 it shallow tray comparing dvd player bother much however keep frozen dvd play back 12288 65321 unplug power reset software according toshiba technical support i bought sony apex dvd player amazon always trouble free                                                                                                                                                                                                                                                                                                         \n",
       "373720  a friend gave original stainless whisky i loved look i started using great right small job beating egg mixing flour milk gravy the whisk fall base hence 4 star instead 5 i loved much i glued back together working ever since some day i look prep shelf think i know feel buddy anyway work well brightens day i ordering silicone orange one                                                                                                                                                                                                                                                                     \n",
       "391974  the designed nature book make bit difficult read content fairly good bit disappointment                                                                                                                                                                                                                                                                                                                                                                                                                                                                                                                              \n",
       "204047  i admit i thoroughly dissappointed book cannot understand positive review received several reader except may academic if somebody interested theory philosophical background corporate partnership might book looking like practical doer looking hand insight knowledge topic deeply dissappointed also several example showcase alliance iridium outdated fact bankrupt very annoying read great alliance several month publishing went belly to sum practical business professional among i suggest keep researching book genre unfortunately since i read yet book topic i cannot offer alternative book advice  "
      ]
     },
     "execution_count": 59,
     "metadata": {},
     "output_type": "execute_result"
    }
   ],
   "source": [
    "df_cleaned = df[[\"sentiment\",\"cleaned_review\"]]\n",
    "df_cleaned.head()"
   ]
  },
  {
   "cell_type": "code",
   "execution_count": 61,
   "metadata": {
    "id": "p9jAUQkIhDdM"
   },
   "outputs": [],
   "source": [
    "# save the cleaned data into a csv file\n",
    "df_cleaned.to_csv(\"Amazon_SentimentAnalysis.csv\")"
   ]
  }
 ],
 "metadata": {
  "colab": {
   "collapsed_sections": [],
   "name": "1_Amazon_EDA copy.ipynb",
   "provenance": []
  },
  "kernelspec": {
   "display_name": "Python 3 (ipykernel)",
   "language": "python",
   "name": "python3"
  },
  "language_info": {
   "codemirror_mode": {
    "name": "ipython",
    "version": 3
   },
   "file_extension": ".py",
   "mimetype": "text/x-python",
   "name": "python",
   "nbconvert_exporter": "python",
   "pygments_lexer": "ipython3",
   "version": "3.9.7"
  }
 },
 "nbformat": 4,
 "nbformat_minor": 4
}
