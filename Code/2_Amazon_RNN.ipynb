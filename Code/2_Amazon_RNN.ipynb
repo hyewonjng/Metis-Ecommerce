{
 "cells": [
  {
   "cell_type": "code",
   "execution_count": null,
   "metadata": {
    "id": "p9jAUQkIhDdM"
   },
   "outputs": [],
   "source": [
    "import pandas as pd\n",
    "df = pd.read_csv(\"Amazon_SentimentAnalysis.csv\")"
   ]
  },
  {
   "cell_type": "code",
   "execution_count": null,
   "metadata": {
    "colab": {
     "base_uri": "https://localhost:8080/"
    },
    "id": "KKkhVPt1ovui",
    "outputId": "e70a87ad-2756-43a1-a575-6b8c8f84970d"
   },
   "outputs": [
    {
     "name": "stdout",
     "output_type": "stream",
     "text": [
      "(3000,)\n",
      "(1000,)\n"
     ]
    }
   ],
   "source": [
    "from sklearn.model_selection import train_test_split\n",
    "\n",
    "X = df_cleaned[\"cleaned_review\"]\n",
    "y = df_cleaned[\"sentiment\"]\n",
    "X_train, X_val, y_train, y_val = train_test_split(X, y, test_size = .25, random_state = 42)\n",
    "print(X_train.shape)\n",
    "print(X_val.shape)"
   ]
  },
  {
   "cell_type": "code",
   "execution_count": null,
   "metadata": {
    "id": "oWVnE4F0pTZK"
   },
   "outputs": [],
   "source": [
    "import nltk\n",
    "nltk.download('punkt')\n",
    "from nltk import word_tokenize\n",
    "\n",
    "from sklearn.feature_extraction.text import TfidfVectorizer\n",
    "\n",
    "tfidf = TfidfVectorizer(use_idf=True, tokenizer=word_tokenize)\n",
    "X_train = tfidf.fit_transform(X_train)\n",
    "X_val = tfidf.transform(X_val)"
   ]
  },
  {
   "cell_type": "markdown",
   "metadata": {
    "id": "HEPihQZlp337"
   },
   "source": [
    "### Baseline Model - Random Forest"
   ]
  },
  {
   "cell_type": "code",
   "execution_count": null,
   "metadata": {
    "colab": {
     "base_uri": "https://localhost:8080/"
    },
    "id": "YBAz7j6Ap3D_",
    "outputId": "d7610b17-54a6-45f7-ca6a-14e704a6a3c4"
   },
   "outputs": [
    {
     "data": {
      "text/plain": [
       "RandomForestClassifier()"
      ]
     },
     "execution_count": 65,
     "metadata": {},
     "output_type": "execute_result"
    }
   ],
   "source": [
    "from sklearn.ensemble import RandomForestClassifier\n",
    "\n",
    "rf = RandomForestClassifier()\n",
    "rf.fit(X_train, y_train)"
   ]
  },
  {
   "cell_type": "code",
   "execution_count": null,
   "metadata": {
    "colab": {
     "base_uri": "https://localhost:8080/"
    },
    "id": "64yo6olZp_bB",
    "outputId": "764118a8-b409-4356-8951-9980903c53a5"
   },
   "outputs": [
    {
     "name": "stdout",
     "output_type": "stream",
     "text": [
      "Accuracy: 0.761 Roc Auc Score:  0.761\n",
      "              precision    recall  f1-score   support\n",
      "\n",
      "           0       0.77      0.75      0.76       504\n",
      "           1       0.75      0.78      0.76       496\n",
      "\n",
      "    accuracy                           0.76      1000\n",
      "   macro avg       0.76      0.76      0.76      1000\n",
      "weighted avg       0.76      0.76      0.76      1000\n",
      "\n"
     ]
    }
   ],
   "source": [
    "from sklearn.metrics import accuracy_score,confusion_matrix, classification_report, roc_auc_score\n",
    "\n",
    "y_pred = rf.predict(X_val)\n",
    "acc = accuracy_score(y_pred, y_val)\n",
    "report = classification_report(y_val, y_pred)\n",
    "roc = roc_auc_score(y_val,y_pred)\n",
    "\n",
    "print(f\"Accuracy:\", round(acc, 3), \"Roc Auc Score: \", round(roc, 3))\n",
    "print(report)"
   ]
  },
  {
   "cell_type": "markdown",
   "metadata": {
    "id": "WURbAsdcqx1l"
   },
   "source": [
    "### Bidirectional LSTM"
   ]
  },
  {
   "cell_type": "code",
   "execution_count": null,
   "metadata": {
    "colab": {
     "base_uri": "https://localhost:8080/"
    },
    "id": "mG6metJ8qlNC",
    "outputId": "d6afae71-1661-4040-e5d9-dc92227edba7"
   },
   "outputs": [
    {
     "name": "stdout",
     "output_type": "stream",
     "text": [
      "(3000,)\n",
      "(1000,)\n"
     ]
    }
   ],
   "source": [
    "X = df[\"cleaned_review\"]\n",
    "y = df[\"sentiment\"]\n",
    "X_train, X_test, y_train, y_test = train_test_split(X, y, test_size = .25, random_state = 42)\n",
    "print(X_train.shape)\n",
    "print(X_test.shape)"
   ]
  },
  {
   "cell_type": "code",
   "execution_count": null,
   "metadata": {
    "id": "2oDrm5Vcq9k5"
   },
   "outputs": [],
   "source": [
    "from keras.preprocessing.text import Tokenizer\n",
    "from keras.preprocessing.sequence import pad_sequences\n",
    "\n",
    "tokenizer = Tokenizer()\n",
    "tokenizer.fit_on_texts(X_train)"
   ]
  },
  {
   "cell_type": "code",
   "execution_count": null,
   "metadata": {
    "id": "oPuAurvSrKP7"
   },
   "outputs": [],
   "source": [
    "X_train_seq = tokenizer.texts_to_sequences(X_train)\n",
    "X_test_seq = tokenizer.texts_to_sequences(X_test)"
   ]
  },
  {
   "cell_type": "code",
   "execution_count": null,
   "metadata": {
    "colab": {
     "base_uri": "https://localhost:8080/"
    },
    "id": "fndrtDlQrSKL",
    "outputId": "4cca0aa1-ef4e-4136-b8e4-d79dbae93d48"
   },
   "outputs": [
    {
     "data": {
      "text/plain": [
       "array([[    0,     0,     0, ...,   600,   496,   884],\n",
       "       [    0,     0,     0, ...,   728,  1010,    84],\n",
       "       [    0,     0,     0, ...,     7,   185,   122],\n",
       "       ...,\n",
       "       [    0,     0,     0, ...,    98,     2,    56],\n",
       "       [16073,     7,  4189, ...,    14,    89,  3800],\n",
       "       [    0,     0,     0, ...,    20,    25,    23]], dtype=int32)"
      ]
     },
     "execution_count": 70,
     "metadata": {},
     "output_type": "execute_result"
    }
   ],
   "source": [
    "X_train_seq_pad = pad_sequences(X_train_seq, maxlen=64)\n",
    "X_test_seq_pad = pad_sequences(X_test_seq, maxlen=64)\n",
    "X_train_seq_pad"
   ]
  },
  {
   "cell_type": "code",
   "execution_count": null,
   "metadata": {
    "colab": {
     "base_uri": "https://localhost:8080/"
    },
    "id": "gGryujzTrf-G",
    "outputId": "c48b61c3-e7cd-4545-e913-da74ee85d4a4"
   },
   "outputs": [
    {
     "name": "stdout",
     "output_type": "stream",
     "text": [
      "Model: \"sequential_16\"\n",
      "_________________________________________________________________\n",
      " Layer (type)                Output Shape              Param #   \n",
      "=================================================================\n",
      " embedding_16 (Embedding)    (None, None, 64)          1029376   \n",
      "                                                                 \n",
      " bidirectional_3 (Bidirectio  (None, 200)              132000    \n",
      " nal)                                                            \n",
      "                                                                 \n",
      " dense_30 (Dense)            (None, 128)               25728     \n",
      "                                                                 \n",
      " dense_31 (Dense)            (None, 1)                 129       \n",
      "                                                                 \n",
      "=================================================================\n",
      "Total params: 1,187,233\n",
      "Trainable params: 1,187,233\n",
      "Non-trainable params: 0\n",
      "_________________________________________________________________\n"
     ]
    }
   ],
   "source": [
    "from tensorflow import keras\n",
    "from keras.models import Sequential\n",
    "from keras.layers.embeddings import Embedding\n",
    "from keras.layers import Dense, LSTM, Bidirectional, Dropout\n",
    "\n",
    "BATCH_SIZE = 32\n",
    "\n",
    "model = Sequential()\n",
    "model.add(Embedding(len(tokenizer.index_word)+1,64))\n",
    "model.add(Bidirectional(LSTM(100, dropout=0.9,recurrent_dropout=0)))\n",
    "model.add(Dense(128, activation=\"relu\"))\n",
    "model.add(Dense(1,activation=\"sigmoid\"))\n",
    "\n",
    "model.compile(\"rmsprop\",\"binary_crossentropy\",metrics=[\"accuracy\"])\n",
    "model.summary()"
   ]
  },
  {
   "cell_type": "code",
   "execution_count": null,
   "metadata": {
    "id": "iziX4J03royh"
   },
   "outputs": [],
   "source": [
    "from keras.callbacks import EarlyStopping\n",
    "early_stop = EarlyStopping(monitor=\"val_loss\",patience=5,verbose=True)"
   ]
  },
  {
   "cell_type": "code",
   "execution_count": null,
   "metadata": {
    "colab": {
     "base_uri": "https://localhost:8080/"
    },
    "id": "OoYSqoJerrh-",
    "outputId": "e20a72d0-2974-44ca-9b84-c8d320d4a66d"
   },
   "outputs": [
    {
     "name": "stdout",
     "output_type": "stream",
     "text": [
      "Epoch 1/20\n",
      "94/94 [==============================] - 23s 154ms/step - loss: 0.6923 - accuracy: 0.5173 - val_loss: 0.6746 - val_accuracy: 0.6520\n",
      "Epoch 2/20\n",
      "94/94 [==============================] - 11s 121ms/step - loss: 0.6305 - accuracy: 0.6580 - val_loss: 0.5599 - val_accuracy: 0.7310\n",
      "Epoch 3/20\n",
      "94/94 [==============================] - 12s 123ms/step - loss: 0.5443 - accuracy: 0.7190 - val_loss: 0.5106 - val_accuracy: 0.7630\n",
      "Epoch 4/20\n",
      "94/94 [==============================] - 12s 126ms/step - loss: 0.4953 - accuracy: 0.7593 - val_loss: 0.5128 - val_accuracy: 0.7430\n",
      "Epoch 5/20\n",
      "94/94 [==============================] - 16s 167ms/step - loss: 0.4488 - accuracy: 0.7913 - val_loss: 0.4734 - val_accuracy: 0.7790\n",
      "Epoch 6/20\n",
      "94/94 [==============================] - 15s 156ms/step - loss: 0.4041 - accuracy: 0.8240 - val_loss: 0.4563 - val_accuracy: 0.7920\n",
      "Epoch 7/20\n",
      "94/94 [==============================] - 11s 115ms/step - loss: 0.3678 - accuracy: 0.8403 - val_loss: 0.4579 - val_accuracy: 0.7960\n",
      "Epoch 8/20\n",
      "94/94 [==============================] - 12s 129ms/step - loss: 0.3213 - accuracy: 0.8610 - val_loss: 0.4694 - val_accuracy: 0.7940\n",
      "Epoch 9/20\n",
      "94/94 [==============================] - 11s 118ms/step - loss: 0.2969 - accuracy: 0.8763 - val_loss: 0.4477 - val_accuracy: 0.8120\n",
      "Epoch 10/20\n",
      "94/94 [==============================] - 11s 116ms/step - loss: 0.2643 - accuracy: 0.8873 - val_loss: 0.4982 - val_accuracy: 0.8110\n",
      "Epoch 11/20\n",
      "94/94 [==============================] - 11s 118ms/step - loss: 0.2295 - accuracy: 0.9063 - val_loss: 0.4930 - val_accuracy: 0.8140\n",
      "Epoch 12/20\n",
      "94/94 [==============================] - 11s 119ms/step - loss: 0.2063 - accuracy: 0.9170 - val_loss: 0.4741 - val_accuracy: 0.8120\n",
      "Epoch 13/20\n",
      "94/94 [==============================] - 11s 116ms/step - loss: 0.2008 - accuracy: 0.9237 - val_loss: 0.4980 - val_accuracy: 0.8000\n",
      "Epoch 14/20\n",
      "94/94 [==============================] - 11s 113ms/step - loss: 0.1737 - accuracy: 0.9307 - val_loss: 0.5452 - val_accuracy: 0.7940\n",
      "Epoch 14: early stopping\n"
     ]
    }
   ],
   "source": [
    "history = model.fit(X_train_seq_pad, y_train,batch_size=BATCH_SIZE, epochs=20,\n",
    "                    validation_data=(X_test_seq_pad, y_test), callbacks=[early_stop])"
   ]
  },
  {
   "cell_type": "code",
   "execution_count": null,
   "metadata": {
    "colab": {
     "base_uri": "https://localhost:8080/"
    },
    "id": "86TS82N-r_ID",
    "outputId": "996d8d93-2d42-40af-e85b-463080a4ec82"
   },
   "outputs": [
    {
     "name": "stdout",
     "output_type": "stream",
     "text": [
      "LSTM Train: 0.9937386666666668\n",
      "LSTM Test: 0.886780753968254\n"
     ]
    }
   ],
   "source": [
    "from sklearn.metrics import roc_auc_score\n",
    "\n",
    "pred_train = model.predict(X_train_seq_pad)\n",
    "pred_test = model.predict(X_test_seq_pad)\n",
    "print('LSTM Train: ' + str(roc_auc_score(y_train, pred_train)))\n",
    "print('LSTM Test: ' + str(roc_auc_score(y_test, pred_test)))"
   ]
  },
  {
   "cell_type": "code",
   "execution_count": null,
   "metadata": {
    "colab": {
     "base_uri": "https://localhost:8080/"
    },
    "id": "oIw5x24asBfv",
    "outputId": "56e3a9a6-6863-4326-a0c1-0ab1d280301f"
   },
   "outputs": [
    {
     "name": "stdout",
     "output_type": "stream",
     "text": [
      "32/32 [==============================] - 1s 27ms/step - loss: 0.5452 - accuracy: 0.7940\n"
     ]
    },
    {
     "data": {
      "text/plain": [
       "[0.5452129244804382, 0.7940000295639038]"
      ]
     },
     "execution_count": 142,
     "metadata": {},
     "output_type": "execute_result"
    }
   ],
   "source": [
    "model.evaluate(X_test_seq_pad, y_test)"
   ]
  },
  {
   "cell_type": "code",
   "execution_count": null,
   "metadata": {
    "colab": {
     "base_uri": "https://localhost:8080/",
     "height": 407
    },
    "id": "sXHuB7JgsEM6",
    "outputId": "4bcc732c-74b1-437d-a816-61e3b85befab"
   },
   "outputs": [
    {
     "data": {
      "text/plain": [
       "Text(0.5, 1.0, 'Training and Validation Accuracy')"
      ]
     },
     "execution_count": 143,
     "metadata": {},
     "output_type": "execute_result"
    },
    {
     "data": {
      "image/png": "[encoded data removed]",
      "text/plain": [
       "<Figure size 648x432 with 1 Axes>"
      ]
     },
     "metadata": {
      "needs_background": "light"
     },
     "output_type": "display_data"
    }
   ],
   "source": [
    "acc = history.history[\"accuracy\"]\n",
    "loss = history.history[\"loss\"]\n",
    "\n",
    "val_acc = history.history[\"val_accuracy\"]\n",
    "val_loss = history.history[\"val_loss\"]\n",
    "\n",
    "plt.figure(figsize=(9,6))\n",
    "plt.plot(acc,label=\"Training Accuracy\")\n",
    "plt.plot(val_acc,label=\"Validation Accuracy\")\n",
    "plt.legend()\n",
    "plt.ylabel(\"Accuracy\")\n",
    "plt.title(\"Training and Validation Accuracy\")\n"
   ]
  },
  {
   "cell_type": "code",
   "execution_count": null,
   "metadata": {
    "colab": {
     "base_uri": "https://localhost:8080/",
     "height": 407
    },
    "id": "aAoJZN4tsG2d",
    "outputId": "571c2a49-5fb2-4d54-d51b-11c327725f03"
   },
   "outputs": [
    {
     "data": {
      "text/plain": [
       "Text(0.5, 1.0, 'Training and Validation Loss')"
      ]
     },
     "execution_count": 144,
     "metadata": {},
     "output_type": "execute_result"
    },
    {
     "data": {
      "image/png": "[encoded data removed]",
      "text/plain": [
       "<Figure size 648x432 with 1 Axes>"
      ]
     },
     "metadata": {
      "needs_background": "light"
     },
     "output_type": "display_data"
    }
   ],
   "source": [
    "plt.figure(figsize=(9,6))\n",
    "plt.plot(loss,label=\"Training Loss\")\n",
    "plt.plot(val_loss, label=\"Validation Loss\")\n",
    "plt.legend()\n",
    "plt.ylabel(\"Loss\")\n",
    "plt.title(\"Training and Validation Loss\")"
   ]
  },
  {
   "cell_type": "markdown",
   "metadata": {},
   "source": [
    "## GRU"
   ]
  },
  {
   "cell_type": "code",
   "execution_count": null,
   "metadata": {
    "colab": {
     "base_uri": "https://localhost:8080/"
    },
    "id": "D2UNtnjS15jo",
    "outputId": "17d981a4-7f8d-4e9f-c795-ab047708a86f"
   },
   "outputs": [
    {
     "name": "stdout",
     "output_type": "stream",
     "text": [
      "Model: \"sequential_17\"\n",
      "_________________________________________________________________\n",
      " Layer (type)                Output Shape              Param #   \n",
      "=================================================================\n",
      " embedding_17 (Embedding)    (None, None, 64)          1029376   \n",
      "                                                                 \n",
      " gru_12 (GRU)                (None, 100)               49800     \n",
      "                                                                 \n",
      " dense_32 (Dense)            (None, 128)               12928     \n",
      "                                                                 \n",
      " dense_33 (Dense)            (None, 1)                 129       \n",
      "                                                                 \n",
      "=================================================================\n",
      "Total params: 1,092,233\n",
      "Trainable params: 1,092,233\n",
      "Non-trainable params: 0\n",
      "_________________________________________________________________\n"
     ]
    }
   ],
   "source": [
    "from tensorflow.keras.layers import GRU\n",
    "from tensorflow.keras.callbacks import EarlyStopping, ModelCheckpoint\n",
    "\n",
    "model = Sequential()\n",
    "model.add(Embedding(len(tokenizer.index_word)+1,64))\n",
    "model.add(GRU(100, dropout = 0.9))\n",
    "model.add(Dense(128, activation=\"relu\"))\n",
    "model.add(Dense(1,activation=\"sigmoid\"))\n",
    "\n",
    "es = EarlyStopping(monitor='val_loss', mode='min', verbose=1, patience=4)\n",
    "model.compile(optimizer='rmsprop', loss='binary_crossentropy', metrics=['acc'])\n",
    "model.summary()\n"
   ]
  },
  {
   "cell_type": "code",
   "execution_count": null,
   "metadata": {
    "id": "-gZWCq3FFfQK"
   },
   "outputs": [],
   "source": [
    "early_stop = EarlyStopping(monitor=\"val_loss\",patience=5,verbose=True)"
   ]
  },
  {
   "cell_type": "code",
   "execution_count": null,
   "metadata": {
    "colab": {
     "base_uri": "https://localhost:8080/"
    },
    "id": "hBPTS21NGlbK",
    "outputId": "3c6388fa-0a41-41ad-8c10-856671cca095"
   },
   "outputs": [
    {
     "name": "stdout",
     "output_type": "stream",
     "text": [
      "Epoch 1/20\n",
      "94/94 [==============================] - 10s 75ms/step - loss: 0.6929 - acc: 0.5107 - val_loss: 0.6886 - val_acc: 0.5720\n",
      "Epoch 2/20\n",
      "94/94 [==============================] - 6s 68ms/step - loss: 0.6666 - acc: 0.5867 - val_loss: 0.5907 - val_acc: 0.7170\n",
      "Epoch 3/20\n",
      "94/94 [==============================] - 6s 64ms/step - loss: 0.5733 - acc: 0.7010 - val_loss: 0.5398 - val_acc: 0.7350\n",
      "Epoch 4/20\n",
      "94/94 [==============================] - 7s 73ms/step - loss: 0.5133 - acc: 0.7423 - val_loss: 0.4945 - val_acc: 0.7570\n",
      "Epoch 5/20\n",
      "94/94 [==============================] - 6s 69ms/step - loss: 0.4544 - acc: 0.7907 - val_loss: 0.4690 - val_acc: 0.7890\n",
      "Epoch 6/20\n",
      "94/94 [==============================] - 7s 73ms/step - loss: 0.4179 - acc: 0.8140 - val_loss: 0.4718 - val_acc: 0.7810\n",
      "Epoch 7/20\n",
      "94/94 [==============================] - 11s 122ms/step - loss: 0.3922 - acc: 0.8287 - val_loss: 0.4767 - val_acc: 0.7780\n",
      "Epoch 8/20\n",
      "94/94 [==============================] - 11s 117ms/step - loss: 0.3661 - acc: 0.8420 - val_loss: 0.4918 - val_acc: 0.7830\n",
      "Epoch 9/20\n",
      "94/94 [==============================] - 9s 100ms/step - loss: 0.3376 - acc: 0.8530 - val_loss: 0.4490 - val_acc: 0.7920\n",
      "Epoch 10/20\n",
      "94/94 [==============================] - 7s 74ms/step - loss: 0.3100 - acc: 0.8717 - val_loss: 0.4822 - val_acc: 0.8030\n",
      "Epoch 11/20\n",
      "94/94 [==============================] - 6s 63ms/step - loss: 0.2871 - acc: 0.8780 - val_loss: 0.4536 - val_acc: 0.7980\n",
      "Epoch 12/20\n",
      "94/94 [==============================] - 7s 71ms/step - loss: 0.2840 - acc: 0.8800 - val_loss: 0.4381 - val_acc: 0.8020\n",
      "Epoch 13/20\n",
      "94/94 [==============================] - 6s 67ms/step - loss: 0.2772 - acc: 0.8857 - val_loss: 0.4435 - val_acc: 0.8050\n",
      "Epoch 14/20\n",
      "94/94 [==============================] - 7s 75ms/step - loss: 0.2559 - acc: 0.8900 - val_loss: 0.5477 - val_acc: 0.7930\n",
      "Epoch 15/20\n",
      "94/94 [==============================] - 7s 71ms/step - loss: 0.2433 - acc: 0.8943 - val_loss: 0.4487 - val_acc: 0.8030\n",
      "Epoch 16/20\n",
      "94/94 [==============================] - 6s 66ms/step - loss: 0.2269 - acc: 0.8993 - val_loss: 0.4641 - val_acc: 0.8070\n",
      "Epoch 17/20\n",
      "94/94 [==============================] - 6s 66ms/step - loss: 0.2351 - acc: 0.9087 - val_loss: 0.4964 - val_acc: 0.8020\n",
      "Epoch 17: early stopping\n"
     ]
    }
   ],
   "source": [
    "history = model.fit(X_train_seq_pad, y_train,batch_size=BATCH_SIZE, epochs=20,\n",
    "                    validation_data=(X_test_seq_pad, y_test), callbacks=[early_stop])"
   ]
  },
  {
   "cell_type": "code",
   "execution_count": null,
   "metadata": {
    "colab": {
     "base_uri": "https://localhost:8080/"
    },
    "id": "KvMm61YGGrbC",
    "outputId": "f4a31c20-b741-43f7-a442-6b863a81d98a"
   },
   "outputs": [
    {
     "name": "stdout",
     "output_type": "stream",
     "text": [
      "GRU Train: 0.9855822222222222\n",
      "GRU Test: 0.8881448412698413\n"
     ]
    }
   ],
   "source": [
    "pred_train = model.predict(X_train_seq_pad)\n",
    "pred_test = model.predict(X_test_seq_pad)\n",
    "print('GRU Train: ' + str(roc_auc_score(y_train, pred_train)))\n",
    "print('GRU Test: ' + str(roc_auc_score(y_test, pred_test)))"
   ]
  },
  {
   "cell_type": "code",
   "execution_count": null,
   "metadata": {
    "colab": {
     "base_uri": "https://localhost:8080/"
    },
    "id": "ID8eH-k_Hz4n",
    "outputId": "2e3a9b9a-0af6-4693-c54a-9f704d582e6f"
   },
   "outputs": [
    {
     "name": "stdout",
     "output_type": "stream",
     "text": [
      "32/32 [==============================] - 1s 20ms/step - loss: 0.5037 - acc: 0.8180\n"
     ]
    },
    {
     "data": {
      "text/plain": [
       "[0.5036537051200867, 0.8180000185966492]"
      ]
     },
     "execution_count": 127,
     "metadata": {},
     "output_type": "execute_result"
    }
   ],
   "source": [
    "model.evaluate(X_test_seq_pad, y_test)"
   ]
  },
  {
   "cell_type": "code",
   "execution_count": null,
   "metadata": {
    "colab": {
     "base_uri": "https://localhost:8080/",
     "height": 407
    },
    "id": "-kMLq5MHH7kO",
    "outputId": "31532d00-9e7a-4789-9004-f057c33ecd81"
   },
   "outputs": [
    {
     "data": {
      "text/plain": [
       "Text(0.5, 1.0, 'Training and Validation Accuracy')"
      ]
     },
     "execution_count": 128,
     "metadata": {},
     "output_type": "execute_result"
    },
    {
     "data": {
      "image/png": "[encoded data removed]",
      "text/plain": [
       "<Figure size 648x432 with 1 Axes>"
      ]
     },
     "metadata": {
      "needs_background": "light"
     },
     "output_type": "display_data"
    }
   ],
   "source": [
    "acc = history.history[\"acc\"]\n",
    "loss = history.history[\"loss\"]\n",
    "\n",
    "val_acc = history.history[\"val_acc\"]\n",
    "val_loss = history.history[\"val_loss\"]\n",
    "\n",
    "plt.figure(figsize=(9,6))\n",
    "plt.plot(acc,label=\"Training Accuracy\")\n",
    "plt.plot(val_acc,label=\"Validation Accuracy\")\n",
    "plt.legend()\n",
    "plt.ylabel(\"Accuracy\")\n",
    "plt.title(\"Training and Validation Accuracy\")\n"
   ]
  },
  {
   "cell_type": "code",
   "execution_count": null,
   "metadata": {
    "colab": {
     "base_uri": "https://localhost:8080/",
     "height": 407
    },
    "id": "8UTMygotH-_A",
    "outputId": "9c74916e-b8e8-43fa-9976-cf287de19948"
   },
   "outputs": [
    {
     "data": {
      "text/plain": [
       "Text(0.5, 1.0, 'Training and Validation Loss')"
      ]
     },
     "execution_count": 129,
     "metadata": {},
     "output_type": "execute_result"
    },
    {
     "data": {
      "image/png": "[encoded data removed]",
      "text/plain": [
       "<Figure size 648x432 with 1 Axes>"
      ]
     },
     "metadata": {
      "needs_background": "light"
     },
     "output_type": "display_data"
    }
   ],
   "source": [
    "plt.figure(figsize=(9,6))\n",
    "plt.plot(loss,label=\"Training Loss\")\n",
    "plt.plot(val_loss, label=\"Validation Loss\")\n",
    "plt.legend()\n",
    "plt.ylabel(\"Loss\")\n",
    "plt.title(\"Training and Validation Loss\")"
   ]
  },
  {
   "cell_type": "code",
   "execution_count": null,
   "metadata": {
    "id": "_1uSbIzLIUos"
   },
   "outputs": [],
   "source": []
  },
  {
   "cell_type": "markdown",
   "metadata": {
    "id": "FO2yqlj7J0CK"
   },
   "source": [
    "**Result**\n",
    "\n",
    "The GRU model has a slightly better accuracy score with .82 than the LSTM accuracy score with .79. \n",
    "\n",
    "However, there seems an issue with overfitting so further regularization is neccessary for the future study. \n",
    "\n",
    "**Further Development**\n",
    "\n",
    "Turning more hyperparameter\n",
    "\n",
    "*   Other activation functions\n",
    "*   Optimizer (i.e., Mini Batch Gradient Descent)\n",
    "\n",
    "\n"
   ]
  },
  {
   "cell_type": "code",
   "execution_count": null,
   "metadata": {
    "id": "CP_JY8DZQYTu"
   },
   "outputs": [],
   "source": []
  }
 ],
 "metadata": {
  "colab": {
   "collapsed_sections": [],
   "name": "1_Amazon_EDA copy.ipynb",
   "provenance": []
  },
  "kernelspec": {
   "display_name": "Python 3 (ipykernel)",
   "language": "python",
   "name": "python3"
  },
  "language_info": {
   "codemirror_mode": {
    "name": "ipython",
    "version": 3
   },
   "file_extension": ".py",
   "mimetype": "text/x-python",
   "name": "python",
   "nbconvert_exporter": "python",
   "pygments_lexer": "ipython3",
   "version": "3.9.7"
  }
 },
 "nbformat": 4,
 "nbformat_minor": 4
}
